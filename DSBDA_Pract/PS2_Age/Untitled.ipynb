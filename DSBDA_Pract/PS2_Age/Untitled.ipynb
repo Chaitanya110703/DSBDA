{
 "cells": [
  {
   "cell_type": "markdown",
   "id": "09203b9d-ceee-4dd9-8475-ed5d70b482bc",
   "metadata": {},
   "source": [
    "# Problem Statement No. 02"
   ]
  },
  {
   "cell_type": "markdown",
   "id": "92c09249-f658-43dc-9bce-49278a90ea36",
   "metadata": {},
   "source": [
    "### Perform the following operations on Age-Income dataset (Age-Income-Dataset.csv)\n",
    "### Provide summary statistics (mean, median, minimum, maximum, standard deviation) for numeric variables with and without using any library functions.\n",
    "### Provide summary statistics of income grouped by the age groups. Create a list that contains a numeric value for each response to the categorical variable."
   ]
  },
  {
   "cell_type": "code",
   "execution_count": 2,
   "id": "3df045fe-ed0d-4b4a-85c4-8088ac94a0d7",
   "metadata": {},
   "outputs": [],
   "source": [
    "import math \n",
    "import pandas as pd\n",
    "import numpy as np"
   ]
  },
  {
   "cell_type": "code",
   "execution_count": 3,
   "id": "b1c1ad93-9c30-4d7f-9b51-6ba0489abc65",
   "metadata": {},
   "outputs": [],
   "source": [
    "df = pd.read_csv('AgeIncomeDataset.csv')"
   ]
  },
  {
   "cell_type": "code",
   "execution_count": 6,
   "id": "b6ab0b66-46e1-498d-a739-de3cc2eccde7",
   "metadata": {},
   "outputs": [
    {
     "data": {
      "text/html": [
       "<div>\n",
       "<style scoped>\n",
       "    .dataframe tbody tr th:only-of-type {\n",
       "        vertical-align: middle;\n",
       "    }\n",
       "\n",
       "    .dataframe tbody tr th {\n",
       "        vertical-align: top;\n",
       "    }\n",
       "\n",
       "    .dataframe thead th {\n",
       "        text-align: right;\n",
       "    }\n",
       "</style>\n",
       "<table border=\"1\" class=\"dataframe\">\n",
       "  <thead>\n",
       "    <tr style=\"text-align: right;\">\n",
       "      <th></th>\n",
       "      <th>Age</th>\n",
       "      <th>Income</th>\n",
       "    </tr>\n",
       "  </thead>\n",
       "  <tbody>\n",
       "    <tr>\n",
       "      <th>0</th>\n",
       "      <td>Young</td>\n",
       "      <td>25000</td>\n",
       "    </tr>\n",
       "    <tr>\n",
       "      <th>1</th>\n",
       "      <td>Middle Age</td>\n",
       "      <td>54000</td>\n",
       "    </tr>\n",
       "    <tr>\n",
       "      <th>2</th>\n",
       "      <td>Old</td>\n",
       "      <td>60000</td>\n",
       "    </tr>\n",
       "    <tr>\n",
       "      <th>3</th>\n",
       "      <td>Young</td>\n",
       "      <td>15000</td>\n",
       "    </tr>\n",
       "    <tr>\n",
       "      <th>4</th>\n",
       "      <td>Young</td>\n",
       "      <td>45000</td>\n",
       "    </tr>\n",
       "  </tbody>\n",
       "</table>\n",
       "</div>"
      ],
      "text/plain": [
       "          Age  Income\n",
       "0       Young   25000\n",
       "1  Middle Age   54000\n",
       "2         Old   60000\n",
       "3       Young   15000\n",
       "4       Young   45000"
      ]
     },
     "execution_count": 6,
     "metadata": {},
     "output_type": "execute_result"
    }
   ],
   "source": [
    "df.head()"
   ]
  },
  {
   "cell_type": "code",
   "execution_count": 12,
   "id": "fa8c20af-d21e-4d0c-84d3-207429a142e5",
   "metadata": {},
   "outputs": [
    {
     "data": {
      "text/plain": [
       "Age       0\n",
       "Income    0\n",
       "dtype: int64"
      ]
     },
     "execution_count": 12,
     "metadata": {},
     "output_type": "execute_result"
    }
   ],
   "source": [
    "df.isnull().sum()"
   ]
  },
  {
   "cell_type": "code",
   "execution_count": 13,
   "id": "94d2d8bb-e130-4f4f-b5c3-a617905c108d",
   "metadata": {},
   "outputs": [
    {
     "name": "stdout",
     "output_type": "stream",
     "text": [
      "<class 'pandas.core.frame.DataFrame'>\n",
      "RangeIndex: 50 entries, 0 to 49\n",
      "Data columns (total 2 columns):\n",
      " #   Column  Non-Null Count  Dtype \n",
      "---  ------  --------------  ----- \n",
      " 0   Age     50 non-null     object\n",
      " 1   Income  50 non-null     int64 \n",
      "dtypes: int64(1), object(1)\n",
      "memory usage: 932.0+ bytes\n"
     ]
    }
   ],
   "source": [
    "df.info()"
   ]
  },
  {
   "cell_type": "code",
   "execution_count": 15,
   "id": "f4cf6238-1705-42f9-92f1-80fc3c7359ee",
   "metadata": {},
   "outputs": [
    {
     "data": {
      "text/plain": [
       "['Income']"
      ]
     },
     "execution_count": 15,
     "metadata": {},
     "output_type": "execute_result"
    }
   ],
   "source": [
    "numeric = [i for i in df.columns if df[i].dtypes != 'O']\n",
    "numeric"
   ]
  },
  {
   "cell_type": "code",
   "execution_count": 16,
   "id": "a756fe6c-4b0f-42bd-a809-df74cb771203",
   "metadata": {},
   "outputs": [],
   "source": [
    "def mean(x):\n",
    "    mean = sum(x)/len(x)\n",
    "    return mean"
   ]
  },
  {
   "cell_type": "code",
   "execution_count": 20,
   "id": "9dfa46a6-6fd3-403f-ad72-27210e260d63",
   "metadata": {},
   "outputs": [
    {
     "name": "stdout",
     "output_type": "stream",
     "text": [
      "The mean is 50966.0\n"
     ]
    }
   ],
   "source": [
    "for i in numeric:\n",
    "    print(f\"The mean is {mean(df[i])}\")"
   ]
  },
  {
   "cell_type": "code",
   "execution_count": 21,
   "id": "900b4a26-62ef-4199-9315-aa7f84d026ea",
   "metadata": {},
   "outputs": [],
   "source": [
    "def median(x):\n",
    "    n = len(x)\n",
    "    data = sorted(x)\n",
    "    if n%2==0:\n",
    "        median_1 = data[n//2]\n",
    "        median_2 = data[n//2 - 1]\n",
    "        median = (median_1 + median_2) / 2\n",
    "    else:\n",
    "        median = data[n//2]\n",
    "    return median"
   ]
  },
  {
   "cell_type": "code",
   "execution_count": 22,
   "id": "4d2f4cb1-8cfa-481a-99e8-f9232dc763a7",
   "metadata": {},
   "outputs": [
    {
     "name": "stdout",
     "output_type": "stream",
     "text": [
      "The median is 46850.0\n"
     ]
    }
   ],
   "source": [
    "for i in numeric:\n",
    "    print(f\"The median is {median(df[i])}\")"
   ]
  },
  {
   "cell_type": "code",
   "execution_count": 27,
   "id": "91c371ad-6551-4bfb-8930-8ec0926ccbf5",
   "metadata": {},
   "outputs": [],
   "source": [
    "min_value = float('inf')\n",
    "min_age = None"
   ]
  },
  {
   "cell_type": "code",
   "execution_count": 30,
   "id": "f6a44918-7ac8-4021-8925-7d3cd42b0bca",
   "metadata": {},
   "outputs": [],
   "source": [
    "for age, income in zip(df['Age'],df['Income']):\n",
    "    if income < min_value:\n",
    "        min_value = income\n",
    "        min_age = age"
   ]
  },
  {
   "cell_type": "code",
   "execution_count": 32,
   "id": "f0c5f693-c414-4d85-9016-10fe23e4ede9",
   "metadata": {},
   "outputs": [
    {
     "name": "stdout",
     "output_type": "stream",
     "text": [
      "The minimum value is 15000 is of Young group\n"
     ]
    }
   ],
   "source": [
    "print(f\"The minimum value is {min_value} is of {min_age} group\")"
   ]
  },
  {
   "cell_type": "code",
   "execution_count": 33,
   "id": "b532f58f-7e07-4e8a-8aeb-94c1c9c4ce18",
   "metadata": {},
   "outputs": [],
   "source": [
    "max_value = 0\n",
    "max_age = None"
   ]
  },
  {
   "cell_type": "code",
   "execution_count": 35,
   "id": "d773ae21-4ca3-44f6-8764-64f428581c84",
   "metadata": {},
   "outputs": [],
   "source": [
    "for age, income in zip(df['Age'],df['Income']):\n",
    "    if income > max_value:\n",
    "        max_value = income\n",
    "        max_age = age"
   ]
  },
  {
   "cell_type": "code",
   "execution_count": 36,
   "id": "2fef6362-4778-4eb3-9547-cd3c828a466b",
   "metadata": {},
   "outputs": [
    {
     "name": "stdout",
     "output_type": "stream",
     "text": [
      "The minimum value is 93000 is of Middle Age group\n"
     ]
    }
   ],
   "source": [
    "print(f\"The minimum value is {max_value} is of {max_age} group\")"
   ]
  },
  {
   "cell_type": "code",
   "execution_count": 37,
   "id": "3081698e-a8eb-4ee9-b92c-92b3e44860fc",
   "metadata": {},
   "outputs": [],
   "source": [
    "def standard_deviation(x):\n",
    "    n = len(x)\n",
    "    mean = sum(x)/n\n",
    "    var = sum([(i - mean)**2 for i in x])/(n-1)\n",
    "    std_dev = math.sqrt(var)\n",
    "    return std_dev"
   ]
  },
  {
   "cell_type": "code",
   "execution_count": 38,
   "id": "debb6482-03ea-447a-a14e-39b0578494df",
   "metadata": {},
   "outputs": [
    {
     "name": "stdout",
     "output_type": "stream",
     "text": [
      "The Standaed Deviation is 21096.683267707253\n"
     ]
    }
   ],
   "source": [
    "for i in numeric:\n",
    "    print(f\"The Standaed Deviation is {standard_deviation(df[i])}\")"
   ]
  },
  {
   "cell_type": "code",
   "execution_count": 39,
   "id": "b0ad35d1-51c6-46b2-a174-46f9f3dcb2c3",
   "metadata": {},
   "outputs": [],
   "source": [
    "def var(x):\n",
    "    n = len(x)\n",
    "    mean = sum(x)/n\n",
    "    var = sum([(i - mean)**2 for i in x])/(n-1)\n",
    "    return var"
   ]
  },
  {
   "cell_type": "code",
   "execution_count": 40,
   "id": "c6b91698-b552-41cf-96f6-dadf9b5b1c82",
   "metadata": {},
   "outputs": [
    {
     "name": "stdout",
     "output_type": "stream",
     "text": [
      "The Standaed Deviation is 445070044.8979592\n"
     ]
    }
   ],
   "source": [
    "for i in numeric:\n",
    "    print(f\"The Standaed Deviation is {var(df[i])}\")"
   ]
  },
  {
   "cell_type": "markdown",
   "id": "4378e3c7-a721-4e3c-ba20-8c6fedd13f7f",
   "metadata": {},
   "source": [
    "### With Using Library Functions"
   ]
  },
  {
   "cell_type": "code",
   "execution_count": 42,
   "id": "b217c067-f672-40dd-8210-4d5b45bdf12f",
   "metadata": {},
   "outputs": [],
   "source": [
    "import statistics"
   ]
  },
  {
   "cell_type": "code",
   "execution_count": 47,
   "id": "c2083e46-8425-41ef-aae9-3d93b5157e2e",
   "metadata": {},
   "outputs": [
    {
     "data": {
      "text/plain": [
       "50966.0"
      ]
     },
     "execution_count": 47,
     "metadata": {},
     "output_type": "execute_result"
    }
   ],
   "source": [
    "mean = np.mean(df['Income'])\n",
    "mean"
   ]
  },
  {
   "cell_type": "code",
   "execution_count": 48,
   "id": "20bbb95f-e6a2-4f63-aceb-09a2fad8c49c",
   "metadata": {},
   "outputs": [
    {
     "data": {
      "text/plain": [
       "46850.0"
      ]
     },
     "execution_count": 48,
     "metadata": {},
     "output_type": "execute_result"
    }
   ],
   "source": [
    "median = np.median(df['Income'])\n",
    "median"
   ]
  },
  {
   "cell_type": "code",
   "execution_count": 50,
   "id": "98df3406-49f1-46ae-8ffe-c2cf843049ae",
   "metadata": {},
   "outputs": [
    {
     "data": {
      "text/plain": [
       "21096.683267707253"
      ]
     },
     "execution_count": 50,
     "metadata": {},
     "output_type": "execute_result"
    }
   ],
   "source": [
    "std_deviation = statistics.stdev(df['Income'])\n",
    "std_deviation"
   ]
  },
  {
   "cell_type": "code",
   "execution_count": 51,
   "id": "5b3e8ab2-fa89-4957-a0c0-1874b97697b3",
   "metadata": {},
   "outputs": [
    {
     "data": {
      "text/plain": [
       "445070044.8979592"
      ]
     },
     "execution_count": 51,
     "metadata": {},
     "output_type": "execute_result"
    }
   ],
   "source": [
    "variance = statistics.variance(df['Income'])\n",
    "variance"
   ]
  },
  {
   "cell_type": "markdown",
   "id": "d0661dea-45e0-4e2c-9b34-e7cc0a92d319",
   "metadata": {},
   "source": [
    "### Performing summary statistics by groups"
   ]
  },
  {
   "cell_type": "code",
   "execution_count": 53,
   "id": "6218aea2-7bac-4e9c-9daf-d6ec3aff1846",
   "metadata": {},
   "outputs": [],
   "source": [
    "groups = df.groupby('Age')"
   ]
  },
  {
   "cell_type": "code",
   "execution_count": 57,
   "id": "54e135a6-cb53-41be-bf7c-ee8bfde29ad7",
   "metadata": {},
   "outputs": [
    {
     "data": {
      "text/plain": [
       "Age\n",
       "Middle Age    52453.333333\n",
       "Old           53942.105263\n",
       "Young         46037.500000\n",
       "Name: Income, dtype: float64"
      ]
     },
     "execution_count": 57,
     "metadata": {},
     "output_type": "execute_result"
    }
   ],
   "source": [
    "df.groupby('Age')['Income'].mean()"
   ]
  },
  {
   "cell_type": "code",
   "execution_count": 58,
   "id": "e1259eae-a561-4c25-aa32-4b206647474c",
   "metadata": {},
   "outputs": [
    {
     "data": {
      "text/plain": [
       "Age\n",
       "Middle Age    53200.0\n",
       "Old           45300.0\n",
       "Young         41500.0\n",
       "Name: Income, dtype: float64"
      ]
     },
     "execution_count": 58,
     "metadata": {},
     "output_type": "execute_result"
    }
   ],
   "source": [
    "df.groupby('Age')['Income'].median()"
   ]
  },
  {
   "cell_type": "code",
   "execution_count": 59,
   "id": "a1a57bfe-9de2-4a0e-b2b4-682a34fcf81d",
   "metadata": {},
   "outputs": [
    {
     "data": {
      "text/plain": [
       "Age\n",
       "Middle Age    20497.800114\n",
       "Old           20868.165968\n",
       "Young         22356.859499\n",
       "Name: Income, dtype: float64"
      ]
     },
     "execution_count": 59,
     "metadata": {},
     "output_type": "execute_result"
    }
   ],
   "source": [
    "df.groupby('Age')['Income'].std()"
   ]
  },
  {
   "cell_type": "code",
   "execution_count": 60,
   "id": "a31fac44-ec35-456e-a960-491ca4ca3855",
   "metadata": {},
   "outputs": [
    {
     "data": {
      "text/plain": [
       "Age\n",
       "Middle Age    4.201598e+08\n",
       "Old           4.354804e+08\n",
       "Young         4.998292e+08\n",
       "Name: Income, dtype: float64"
      ]
     },
     "execution_count": 60,
     "metadata": {},
     "output_type": "execute_result"
    }
   ],
   "source": [
    "df.groupby('Age')['Income'].var()"
   ]
  },
  {
   "cell_type": "code",
   "execution_count": null,
   "id": "de5a0e58-8ae4-47d0-b6b6-3b3aec1dcd52",
   "metadata": {},
   "outputs": [],
   "source": []
  }
 ],
 "metadata": {
  "kernelspec": {
   "display_name": "Python 3 (ipykernel)",
   "language": "python",
   "name": "python3"
  },
  "language_info": {
   "codemirror_mode": {
    "name": "ipython",
    "version": 3
   },
   "file_extension": ".py",
   "mimetype": "text/x-python",
   "name": "python",
   "nbconvert_exporter": "python",
   "pygments_lexer": "ipython3",
   "version": "3.11.3"
  }
 },
 "nbformat": 4,
 "nbformat_minor": 5
}
